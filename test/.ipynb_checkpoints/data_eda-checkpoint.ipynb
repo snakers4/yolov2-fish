{
 "cells": [
  {
   "cell_type": "markdown",
   "metadata": {},
   "source": [
    "# Download the data"
   ]
  },
  {
   "cell_type": "markdown",
   "metadata": {
    "heading_collapsed": true
   },
   "source": [
    "## Tables"
   ]
  },
  {
   "cell_type": "code",
   "execution_count": 1,
   "metadata": {
    "ExecuteTime": {
     "end_time": "2017-10-11T12:02:43.811704Z",
     "start_time": "2017-10-11T12:02:43.700781Z"
    },
    "code_folding": [
     19,
     38,
     49,
     54,
     57
    ],
    "hidden": true
   },
   "outputs": [
    {
     "name": "stdout",
     "output_type": "stream",
     "text": [
      "99687 100039\n"
     ]
    }
   ],
   "source": [
    "import json\n",
    "import requests\n",
    "import os\n",
    "import pandas as pd\n",
    "from multiprocessing import Pool\n",
    "import tqdm\n",
    "import time\n",
    "import logging\n",
    "\n",
    "time.time()\n",
    "logging.basicConfig(filename='api_stress.log',level=logging.DEBUG)\n",
    "\n",
    "f_df = pd.read_csv('featured.csv')\n",
    "nf_df = pd.read_csv('not_featured.csv')\n",
    "\n",
    "featured_ids = list(f_df.id.values)\n",
    "non_featured_ids = list(nf_df.id.values)\n",
    "print(len(featured_ids),len(non_featured_ids))\n",
    "\n",
    "def get_remote_data(pic_id):\n",
    "    try:\n",
    "        logging.info('PIC_ID = {} UNIX_TS_START = {}'.format(pic_id,time.time()).encode('utf-8').strip())\n",
    "\n",
    "        api_url = 'https://api.picsart.com/photos/show/%s.json' % str(pic_id)    \n",
    "        response = requests.get(api_url)\n",
    "\n",
    "        logging.debug(('PIC_ID = {} UNIX_TS = {} HEADERS = '.format(pic_id,time.time())+str(response.headers)).encode('utf-8').strip())      \n",
    "        logging.debug(('PIC_ID = {} UNIX_TS = {} RESPONSE = '.format(pic_id,time.time())+response.content.decode(\"utf-8\")).encode('utf-8').strip())   \n",
    "\n",
    "        data = json.loads(response.content.decode(response.encoding))\n",
    "\n",
    "        logging.info('PIC_ID = {} UNIX_TS_END = {}'.format(pic_id,time.time()).encode('utf-8').strip())     \n",
    "\n",
    "        return data \n",
    "    \n",
    "    except:\n",
    "        logging.info('PIC_ID = {} UNIX_EXCEPTION_TS_END = {}'.format(pic_id,time.time()).encode('utf-8').strip()) \n",
    "\n",
    "def parse_data_item(data, entities_list, user_entities_list, location_entities_list):\n",
    "    entities = { new_key: catch(data,new_key) for new_key in entities_list}\n",
    "    tags = { new_key: catch(data,new_key) for new_key in tags_entities}\n",
    "    user_entities = { new_key: catch(catch(data,'user'),new_key) for new_key in user_entities_list}\n",
    "    location_entities = { new_key: catch(catch(data,'location'),new_key) for new_key in location_entities_list}\n",
    "   \n",
    "    entities.update(user_entities)\n",
    "    entities.update(location_entities)\n",
    "    entities.update(tags)\n",
    "    \n",
    "    return entities\n",
    "def catch(data,key):\n",
    "    try:\n",
    "        return data[key]\n",
    "    except:\n",
    "        return ''\n",
    "def formatted_api_response(pic_id):\n",
    "    return parse_data_item(get_remote_data(pic_id),entities_list, user_entities_list, location_entities_list)\n",
    "\n",
    "entities_list = ['comments_count',\n",
    "                 'views_count',\n",
    "                 'reposts_count',\n",
    "                 'created',\n",
    "                 'public',\n",
    "                 'sources_count',\n",
    "                 'streams_count',\n",
    "                 'height','width',\n",
    "                 'type',\n",
    "                 'is_reposted',\n",
    "                 'url',\n",
    "                 'likes_count',\n",
    "                 'status',\n",
    "                 'mature',\n",
    "                 'id',\n",
    "                 'has_similars',\n",
    "                 'forks_count']\n",
    "user_entities_list = ['photo', 'followers_count', 'photos_count', 'username', 'is_verified', 'name', 'id']\n",
    "location_entities_list = ['country_code']\n",
    "tags_entities = ['tags']\n"
   ]
  },
  {
   "cell_type": "code",
   "execution_count": 2,
   "metadata": {
    "code_folding": [
     0
    ],
    "hidden": true,
    "scrolled": true
   },
   "outputs": [
    {
     "name": "stderr",
     "output_type": "stream",
     "text": [
      "100%|██████████| 99687/99687 [34:56<00:00, 47.55it/s]\n",
      "100%|██████████| 100039/100039 [32:13<00:00, 51.74it/s]\n"
     ]
    }
   ],
   "source": [
    "with Pool(16) as p:\n",
    "    pic_data = list(tqdm.tqdm(p.imap(formatted_api_response, featured_ids), total=len(featured_ids)))\n",
    "\n",
    "f_p_df = pd.DataFrame(pic_data)\n",
    "f_p_df.to_csv('f_p_df_w_tags.csv')\n",
    "\n",
    "with Pool(16) as p:\n",
    "    pic_data = list(tqdm.tqdm(p.imap(formatted_api_response, non_featured_ids), total=len(non_featured_ids)))\n",
    "\n",
    "nf_p_df = pd.DataFrame(pic_data)\n",
    "nf_p_df.to_csv('nf_p_df_w_tags.csv')"
   ]
  },
  {
   "cell_type": "markdown",
   "metadata": {
    "heading_collapsed": true
   },
   "source": [
    "## Pics"
   ]
  },
  {
   "cell_type": "code",
   "execution_count": 2,
   "metadata": {
    "hidden": true
   },
   "outputs": [],
   "source": [
    "import pandas as pd\n",
    "import numpy as np\n",
    "import collections\n",
    "\n",
    "\n",
    "# download picsart dataset\n",
    "f_p_df = pd.read_csv('f_p_df_w_tags.csv')\n",
    "nf_p_df = pd.read_csv('nf_p_df_wo_tags.csv')\n",
    "\n",
    "def split_string(string):\n",
    "    try:\n",
    "        return string.split('/')[3]\n",
    "    except:\n",
    "        np.nan\n",
    "\n",
    "f_p_df['filename'] = f_p_df['url'].apply(lambda x: split_string(x))\n",
    "f_p_dict = dict(zip(f_p_df[pd.notnull(f_p_df.url)].url,f_p_df[pd.notnull(f_p_df.url)].filename))\n",
    "\n",
    "nf_p_df['filename'] = nf_p_df['url'].apply(lambda x: split_string(x))\n",
    "nf_p_dict = dict(zip(nf_p_df[pd.notnull(nf_p_df.url)].url,nf_p_df[pd.notnull(nf_p_df.url)].filename))\n",
    "\n",
    "f_p_dict = collections.OrderedDict(f_p_dict) \n",
    "nf_p_dict = collections.OrderedDict(nf_p_dict)"
   ]
  },
  {
   "cell_type": "code",
   "execution_count": 18,
   "metadata": {
    "collapsed": true,
    "hidden": true
   },
   "outputs": [],
   "source": [
    "!mkdir -p ../data/aesthetics\n",
    "!mkdir -p ../data/aesthetics/f\n",
    "!mkdir -p ../data/aesthetics/nf"
   ]
  },
  {
   "cell_type": "code",
   "execution_count": 24,
   "metadata": {
    "hidden": true
   },
   "outputs": [
    {
     "data": {
      "text/plain": [
       "('http://cdn61.picsart.com/185271245000201.jpg', '185271245000201.jpg')"
      ]
     },
     "execution_count": 24,
     "metadata": {},
     "output_type": "execute_result"
    }
   ],
   "source": [
    "list(f_p_dict.items())[0]"
   ]
  },
  {
   "cell_type": "code",
   "execution_count": 3,
   "metadata": {
    "hidden": true
   },
   "outputs": [
    {
     "name": "stderr",
     "output_type": "stream",
     "text": [
      "  0%|          | 154/99899 [00:13<2:21:48, 11.72it/s]Process ForkPoolWorker-15:\n",
      "Process ForkPoolWorker-13:\n",
      "Process ForkPoolWorker-14:\n",
      "Process ForkPoolWorker-16:\n",
      "Process ForkPoolWorker-12:\n",
      "Process ForkPoolWorker-11:\n",
      "Process ForkPoolWorker-9:\n",
      "Process ForkPoolWorker-10:\n"
     ]
    },
    {
     "ename": "KeyboardInterrupt",
     "evalue": "",
     "output_type": "error",
     "traceback": [
      "\u001b[0;31m---------------------------------------------------------------------------\u001b[0m",
      "\u001b[0;31mIndexError\u001b[0m                                Traceback (most recent call last)",
      "\u001b[0;32m/opt/conda/lib/python3.5/multiprocessing/pool.py\u001b[0m in \u001b[0;36mnext\u001b[0;34m(self, timeout)\u001b[0m\n\u001b[1;32m    715\u001b[0m             \u001b[0;32mtry\u001b[0m\u001b[0;34m:\u001b[0m\u001b[0;34m\u001b[0m\u001b[0m\n\u001b[0;32m--> 716\u001b[0;31m                 \u001b[0mitem\u001b[0m \u001b[0;34m=\u001b[0m \u001b[0mself\u001b[0m\u001b[0;34m.\u001b[0m\u001b[0m_items\u001b[0m\u001b[0;34m.\u001b[0m\u001b[0mpopleft\u001b[0m\u001b[0;34m(\u001b[0m\u001b[0;34m)\u001b[0m\u001b[0;34m\u001b[0m\u001b[0m\n\u001b[0m\u001b[1;32m    717\u001b[0m             \u001b[0;32mexcept\u001b[0m \u001b[0mIndexError\u001b[0m\u001b[0;34m:\u001b[0m\u001b[0;34m\u001b[0m\u001b[0m\n",
      "\u001b[0;31mIndexError\u001b[0m: pop from an empty deque",
      "\nDuring handling of the above exception, another exception occurred:\n",
      "\u001b[0;31mKeyboardInterrupt\u001b[0m                         Traceback (most recent call last)",
      "\u001b[0;32m<ipython-input-3-92a7b91c3724>\u001b[0m in \u001b[0;36m<module>\u001b[0;34m()\u001b[0m\n\u001b[1;32m     41\u001b[0m \u001b[0;34m\u001b[0m\u001b[0m\n\u001b[1;32m     42\u001b[0m \u001b[0;32mwith\u001b[0m \u001b[0mPool\u001b[0m\u001b[0;34m(\u001b[0m\u001b[0;36m8\u001b[0m\u001b[0;34m)\u001b[0m \u001b[0;32mas\u001b[0m \u001b[0mp\u001b[0m\u001b[0;34m:\u001b[0m\u001b[0;34m\u001b[0m\u001b[0m\n\u001b[0;32m---> 43\u001b[0;31m     \u001b[0mpic_data\u001b[0m \u001b[0;34m=\u001b[0m \u001b[0mlist\u001b[0m\u001b[0;34m(\u001b[0m\u001b[0mtqdm\u001b[0m\u001b[0;34m.\u001b[0m\u001b[0mtqdm\u001b[0m\u001b[0;34m(\u001b[0m\u001b[0mp\u001b[0m\u001b[0;34m.\u001b[0m\u001b[0mimap\u001b[0m\u001b[0;34m(\u001b[0m\u001b[0mdowload_file_nf\u001b[0m\u001b[0;34m,\u001b[0m \u001b[0mlist\u001b[0m\u001b[0;34m(\u001b[0m\u001b[0mnf_p_dict\u001b[0m\u001b[0;34m.\u001b[0m\u001b[0mitems\u001b[0m\u001b[0;34m(\u001b[0m\u001b[0;34m)\u001b[0m\u001b[0;34m)\u001b[0m\u001b[0;34m)\u001b[0m\u001b[0;34m,\u001b[0m \u001b[0mtotal\u001b[0m\u001b[0;34m=\u001b[0m\u001b[0mlen\u001b[0m\u001b[0;34m(\u001b[0m\u001b[0mlist\u001b[0m\u001b[0;34m(\u001b[0m\u001b[0mnf_p_dict\u001b[0m\u001b[0;34m.\u001b[0m\u001b[0mitems\u001b[0m\u001b[0;34m(\u001b[0m\u001b[0;34m)\u001b[0m\u001b[0;34m)\u001b[0m\u001b[0;34m)\u001b[0m\u001b[0;34m)\u001b[0m\u001b[0;34m)\u001b[0m\u001b[0;34m\u001b[0m\u001b[0m\n\u001b[0m\u001b[1;32m     44\u001b[0m \u001b[0;34m\u001b[0m\u001b[0m\n\u001b[1;32m     45\u001b[0m \u001b[0;34m\u001b[0m\u001b[0m\n",
      "\u001b[0;32m/opt/conda/lib/python3.5/site-packages/tqdm/_tqdm.py\u001b[0m in \u001b[0;36m__iter__\u001b[0;34m(self)\u001b[0m\n\u001b[1;32m    947\u001b[0m \"\"\", fp_write=getattr(self.fp, 'write', sys.stderr.write))\n\u001b[1;32m    948\u001b[0m \u001b[0;34m\u001b[0m\u001b[0m\n\u001b[0;32m--> 949\u001b[0;31m             \u001b[0;32mfor\u001b[0m \u001b[0mobj\u001b[0m \u001b[0;32min\u001b[0m \u001b[0miterable\u001b[0m\u001b[0;34m:\u001b[0m\u001b[0;34m\u001b[0m\u001b[0m\n\u001b[0m\u001b[1;32m    950\u001b[0m                 \u001b[0;32myield\u001b[0m \u001b[0mobj\u001b[0m\u001b[0;34m\u001b[0m\u001b[0m\n\u001b[1;32m    951\u001b[0m                 \u001b[0;31m# Update and possibly print the progressbar.\u001b[0m\u001b[0;34m\u001b[0m\u001b[0;34m\u001b[0m\u001b[0m\n",
      "\u001b[0;32m/opt/conda/lib/python3.5/multiprocessing/pool.py\u001b[0m in \u001b[0;36mnext\u001b[0;34m(self, timeout)\u001b[0m\n\u001b[1;32m    718\u001b[0m                 \u001b[0;32mif\u001b[0m \u001b[0mself\u001b[0m\u001b[0;34m.\u001b[0m\u001b[0m_index\u001b[0m \u001b[0;34m==\u001b[0m \u001b[0mself\u001b[0m\u001b[0;34m.\u001b[0m\u001b[0m_length\u001b[0m\u001b[0;34m:\u001b[0m\u001b[0;34m\u001b[0m\u001b[0m\n\u001b[1;32m    719\u001b[0m                     \u001b[0;32mraise\u001b[0m \u001b[0mStopIteration\u001b[0m\u001b[0;34m\u001b[0m\u001b[0m\n\u001b[0;32m--> 720\u001b[0;31m                 \u001b[0mself\u001b[0m\u001b[0;34m.\u001b[0m\u001b[0m_cond\u001b[0m\u001b[0;34m.\u001b[0m\u001b[0mwait\u001b[0m\u001b[0;34m(\u001b[0m\u001b[0mtimeout\u001b[0m\u001b[0;34m)\u001b[0m\u001b[0;34m\u001b[0m\u001b[0m\n\u001b[0m\u001b[1;32m    721\u001b[0m                 \u001b[0;32mtry\u001b[0m\u001b[0;34m:\u001b[0m\u001b[0;34m\u001b[0m\u001b[0m\n\u001b[1;32m    722\u001b[0m                     \u001b[0mitem\u001b[0m \u001b[0;34m=\u001b[0m \u001b[0mself\u001b[0m\u001b[0;34m.\u001b[0m\u001b[0m_items\u001b[0m\u001b[0;34m.\u001b[0m\u001b[0mpopleft\u001b[0m\u001b[0;34m(\u001b[0m\u001b[0;34m)\u001b[0m\u001b[0;34m\u001b[0m\u001b[0m\n",
      "\u001b[0;32m/opt/conda/lib/python3.5/threading.py\u001b[0m in \u001b[0;36mwait\u001b[0;34m(self, timeout)\u001b[0m\n\u001b[1;32m    291\u001b[0m         \u001b[0;32mtry\u001b[0m\u001b[0;34m:\u001b[0m    \u001b[0;31m# restore state no matter what (e.g., KeyboardInterrupt)\u001b[0m\u001b[0;34m\u001b[0m\u001b[0m\n\u001b[1;32m    292\u001b[0m             \u001b[0;32mif\u001b[0m \u001b[0mtimeout\u001b[0m \u001b[0;32mis\u001b[0m \u001b[0;32mNone\u001b[0m\u001b[0;34m:\u001b[0m\u001b[0;34m\u001b[0m\u001b[0m\n\u001b[0;32m--> 293\u001b[0;31m                 \u001b[0mwaiter\u001b[0m\u001b[0;34m.\u001b[0m\u001b[0macquire\u001b[0m\u001b[0;34m(\u001b[0m\u001b[0;34m)\u001b[0m\u001b[0;34m\u001b[0m\u001b[0m\n\u001b[0m\u001b[1;32m    294\u001b[0m                 \u001b[0mgotit\u001b[0m \u001b[0;34m=\u001b[0m \u001b[0;32mTrue\u001b[0m\u001b[0;34m\u001b[0m\u001b[0m\n\u001b[1;32m    295\u001b[0m             \u001b[0;32melse\u001b[0m\u001b[0;34m:\u001b[0m\u001b[0;34m\u001b[0m\u001b[0m\n",
      "\u001b[0;31mKeyboardInterrupt\u001b[0m: "
     ]
    }
   ],
   "source": [
    "import pandas as pd\n",
    "import numpy as np\n",
    "import collections\n",
    "import tqdm\n",
    "import requests\n",
    "import shutil\n",
    "from multiprocessing import Pool\n",
    "\n",
    "# download picsart dataset\n",
    "f_p_df = pd.read_csv('f_p_df_w_tags.csv')\n",
    "nf_p_df = pd.read_csv('nf_p_df_wo_tags.csv')\n",
    "\n",
    "def split_string(string):\n",
    "    try:\n",
    "        return string.split('/')[3]\n",
    "    except:\n",
    "        np.nan\n",
    "\n",
    "f_p_df['filename'] = f_p_df['url'].apply(lambda x: split_string(x))\n",
    "f_p_dict = dict(zip(f_p_df[pd.notnull(f_p_df.url)].url,f_p_df[pd.notnull(f_p_df.url)].filename))\n",
    "\n",
    "nf_p_df['filename'] = nf_p_df['url'].apply(lambda x: split_string(x))\n",
    "nf_p_dict = dict(zip(nf_p_df[pd.notnull(nf_p_df.url)].url,nf_p_df[pd.notnull(nf_p_df.url)].filename))\n",
    "\n",
    "\n",
    "\n",
    "def dowload_file_f(url_path):\n",
    "    r = requests.get(url_path[0], stream=True)\n",
    "    if r.status_code == 200:\n",
    "        with open('../data/aesthetics/f/' + url_path[1], 'wb') as f:\n",
    "            r.raw.decode_content = True\n",
    "            shutil.copyfileobj(r.raw, f)\n",
    "\n",
    "def dowload_file_nf(url_path):\n",
    "    r = requests.get(url_path[0], stream=True)\n",
    "    if r.status_code == 200:\n",
    "        with open('../data/aesthetics/nf/' + url_path[1], 'wb') as f:\n",
    "            r.raw.decode_content = True\n",
    "            shutil.copyfileobj(r.raw, f)\n",
    "            \n",
    "            \n",
    "with Pool(16) as p:\n",
    "    pic_data = list(tqdm.tqdm(p.imap(dowload_file_nf, list(nf_p_dict.items())), total=len(list(nf_p_dict.items()))))\n",
    "\n",
    "with Pool(16) as p:\n",
    "    pic_data = list(tqdm.tqdm(p.imap(dowload_file_f, list(f_p_dict.items())), total=len(list(f_p_dict.items()))))\n",
    "\n",
    "        "
   ]
  },
  {
   "cell_type": "code",
   "execution_count": 14,
   "metadata": {
    "hidden": true
   },
   "outputs": [
    {
     "data": {
      "text/plain": [
       "98939"
      ]
     },
     "execution_count": 14,
     "metadata": {},
     "output_type": "execute_result"
    }
   ],
   "source": [
    "list(f_p_dict.items())"
   ]
  },
  {
   "cell_type": "code",
   "execution_count": 8,
   "metadata": {
    "hidden": true
   },
   "outputs": [
    {
     "data": {
      "text/plain": [
       "'http://cdn20.picsart.com/162526344000202.jpeg'"
      ]
     },
     "execution_count": 8,
     "metadata": {},
     "output_type": "execute_result"
    }
   ],
   "source": [
    "list(nf_p_dict)[3]"
   ]
  },
  {
   "cell_type": "code",
   "execution_count": 1,
   "metadata": {
    "hidden": true
   },
   "outputs": [
    {
     "ename": "NameError",
     "evalue": "name 'tqdm' is not defined",
     "output_type": "error",
     "traceback": [
      "\u001b[0;31m---------------------------------------------------------------------------\u001b[0m",
      "\u001b[0;31mNameError\u001b[0m                                 Traceback (most recent call last)",
      "\u001b[0;32m<ipython-input-1-6a00752f6a71>\u001b[0m in \u001b[0;36m<module>\u001b[0;34m()\u001b[0m\n\u001b[1;32m      1\u001b[0m \u001b[0mi\u001b[0m \u001b[0;34m=\u001b[0m \u001b[0;36m0\u001b[0m\u001b[0;34m\u001b[0m\u001b[0m\n\u001b[0;32m----> 2\u001b[0;31m \u001b[0;32mfor\u001b[0m \u001b[0murl\u001b[0m\u001b[0;34m,\u001b[0m\u001b[0mfile\u001b[0m \u001b[0;32min\u001b[0m \u001b[0mtqdm\u001b[0m\u001b[0;34m.\u001b[0m\u001b[0mtqdm\u001b[0m\u001b[0;34m(\u001b[0m\u001b[0mf_p_dict\u001b[0m\u001b[0;34m.\u001b[0m\u001b[0mitems\u001b[0m\u001b[0;34m(\u001b[0m\u001b[0;34m)\u001b[0m\u001b[0;34m)\u001b[0m\u001b[0;34m:\u001b[0m\u001b[0;34m\u001b[0m\u001b[0m\n\u001b[0m\u001b[1;32m      3\u001b[0m     \u001b[0;32mif\u001b[0m \u001b[0mi\u001b[0m\u001b[0;34m>\u001b[0m\u001b[0;34m-\u001b[0m\u001b[0;36m1\u001b[0m\u001b[0;34m:\u001b[0m\u001b[0;34m\u001b[0m\u001b[0m\n\u001b[1;32m      4\u001b[0m         \u001b[0murl_q\u001b[0m \u001b[0;34m=\u001b[0m \u001b[0;34m\"'\"\u001b[0m \u001b[0;34m+\u001b[0m \u001b[0murl\u001b[0m \u001b[0;34m+\u001b[0m \u001b[0;34m\"'\"\u001b[0m\u001b[0;34m\u001b[0m\u001b[0m\n\u001b[1;32m      5\u001b[0m         \u001b[0mfile_path\u001b[0m \u001b[0;34m=\u001b[0m \u001b[0;34m'../data/aesthetics/f/'\u001b[0m \u001b[0;34m+\u001b[0m \u001b[0mfile\u001b[0m\u001b[0;34m\u001b[0m\u001b[0m\n",
      "\u001b[0;31mNameError\u001b[0m: name 'tqdm' is not defined"
     ]
    }
   ],
   "source": [
    "i = 0\n",
    "for url,file in tqdm.tqdm(f_p_dict.items()):\n",
    "    if i>-1:\n",
    "        url_q = \"'\" + url + \"'\"\n",
    "        file_path = '../data/aesthetics/f/' + file\n",
    "        ! wget --quiet --continue --no-check-certificate --no-proxy -O $file_path $url_q\n",
    "    i += 1\n",
    "    \n",
    "\n",
    "i = 0\n",
    "\n",
    "for url,file in tqdm.tqdm(nf_p_dict.items()):\n",
    "    if i>-1:\n",
    "        url_q = \"'\" + url + \"'\"\n",
    "        file_path = '../data/aesthetics/nf/' + file\n",
    "    ! wget --continue --quiet --no-check-certificate --no-proxy -O $file_path $url_q\n",
    "    i += 1\n",
    "        "
   ]
  },
  {
   "cell_type": "code",
   "execution_count": 10,
   "metadata": {
    "hidden": true
   },
   "outputs": [],
   "source": [
    "import requests\n",
    "import shutil\n",
    "\n",
    "url = 'http://cdn20.picsart.com/162526344000202.jpeg'\n",
    "path = '../data/aesthetics/nf/162526344000202.jpeg'\n",
    "\n",
    "r = requests.get(url, stream=True)\n",
    "if r.status_code == 200:\n",
    "    with open(path, 'wb') as f:\n",
    "        r.raw.decode_content = True\n",
    "        shutil.copyfileobj(r.raw, f)"
   ]
  },
  {
   "cell_type": "markdown",
   "metadata": {
    "heading_collapsed": true
   },
   "source": [
    "## AVA dataset"
   ]
  },
  {
   "cell_type": "code",
   "execution_count": null,
   "metadata": {
    "collapsed": true,
    "hidden": true
   },
   "outputs": [],
   "source": [
    "# AVA torrent link\n",
    "http://academictorrents.com/download/71631f83b11d3d79d8f84efe0a7e12f0ac001460.torrent\n",
    "\n",
    "# Original threads - seem to be obsolete / non-maintained / behind the paywall\n",
    "https://www.reddit.com/r/MachineLearning/comments/5sa3ag/r_image_aestetics_dataset_avadpchallenge/\n",
    "https://github.com/mtobeiyf/ava_downloader\n",
    "\n",
    "# Transmission cli\n",
    "https://help.ubuntu.com/community/TransmissionHowTo\n",
    "\n",
    "sudo apt-get install transmission-cli transmission-common transmission-daemon\n",
    "sudo service transmission-daemon start\n",
    "\n",
    "# sudo service transmission-daemon stop\n",
    "\n",
    "sudo nano /var/lib/transmission-daemon/info/settings.json\n",
    "\"rpc-whitelist\": \"127.0.0.1,192.168.*.*\","
   ]
  },
  {
   "cell_type": "markdown",
   "metadata": {
    "heading_collapsed": true
   },
   "source": [
    "# Do some EDA"
   ]
  },
  {
   "cell_type": "code",
   "execution_count": 13,
   "metadata": {
    "hidden": true
   },
   "outputs": [
    {
     "data": {
      "text/plain": [
       "99687"
      ]
     },
     "execution_count": 13,
     "metadata": {},
     "output_type": "execute_result"
    }
   ],
   "source": [
    "len(featured_ids)"
   ]
  },
  {
   "cell_type": "code",
   "execution_count": 60,
   "metadata": {
    "hidden": true,
    "scrolled": false
   },
   "outputs": [
    {
     "data": {
      "text/plain": [
       "{'comments_count': 6,\n",
       " 'created': '2014-12-27T14:16:01.904Z',\n",
       " 'forks_count': 0,\n",
       " 'has_similars': False,\n",
       " 'height': 639,\n",
       " 'id': 157385761000201,\n",
       " 'is_reposted': False,\n",
       " 'likes_count': 111,\n",
       " 'location': None,\n",
       " 'mature': False,\n",
       " 'public': True,\n",
       " 'reposts_count': 1,\n",
       " 'sources_count': 0,\n",
       " 'status': 'success',\n",
       " 'streams_count': 2,\n",
       " 'tags': ['music', 'blackandandwhite', 'photography', 'hands'],\n",
       " 'title': '\"Taal\" or Rythem ....this one goes to @carlos111 and his music series my friends \\n#music  #blackandandwhite #photography #hands ',\n",
       " 'type': 'photo',\n",
       " 'url': 'http://cdn23.picsart.com/157385761000201.jpeg',\n",
       " 'user': {'followers_count': 312659,\n",
       "  'id': 48249099,\n",
       "  'is_verified': False,\n",
       "  'name': 'Prithwiraj Sarker',\n",
       "  'photo': 'http://cdn35.picsart.com/136072804001201.jpeg',\n",
       "  'photos_count': 1393,\n",
       "  'username': 'new2me'},\n",
       " 'views_count': 7214,\n",
       " 'width': 826}"
      ]
     },
     "execution_count": 60,
     "metadata": {},
     "output_type": "execute_result"
    }
   ],
   "source": [
    "from random import randint\n",
    "\n",
    "api_url = 'https://api.picsart.com/photos/show/%s.json' % str(featured_ids[randint(0, len(featured_ids) )])  \n",
    "response = requests.get(api_url)\n",
    "data = json.loads(response.content.decode(response.encoding))\n",
    "data"
   ]
  },
  {
   "cell_type": "code",
   "execution_count": 2,
   "metadata": {
    "collapsed": true,
    "hidden": true
   },
   "outputs": [],
   "source": [
    "import pandas as pd"
   ]
  },
  {
   "cell_type": "code",
   "execution_count": 6,
   "metadata": {
    "hidden": true
   },
   "outputs": [
    {
     "data": {
      "text/plain": [
       "array(['Unnamed: 0', 'comments_count', 'country_code', 'created',\n",
       "       'followers_count', 'forks_count', 'has_similars', 'height', 'id',\n",
       "       'is_reposted', 'is_verified', 'likes_count', 'mature', 'name',\n",
       "       'photo', 'photos_count', 'public', 'reposts_count', 'sources_count',\n",
       "       'status', 'streams_count', 'type', 'url', 'username', 'views_count'], dtype=object)"
      ]
     },
     "execution_count": 6,
     "metadata": {},
     "output_type": "execute_result"
    }
   ],
   "source": [
    "f_p_df.columns.values"
   ]
  },
  {
   "cell_type": "code",
   "execution_count": 3,
   "metadata": {
    "hidden": true
   },
   "outputs": [
    {
     "data": {
      "text/html": [
       "<div>\n",
       "<style>\n",
       "    .dataframe thead tr:only-child th {\n",
       "        text-align: right;\n",
       "    }\n",
       "\n",
       "    .dataframe thead th {\n",
       "        text-align: left;\n",
       "    }\n",
       "\n",
       "    .dataframe tbody tr th {\n",
       "        vertical-align: top;\n",
       "    }\n",
       "</style>\n",
       "<table border=\"1\" class=\"dataframe\">\n",
       "  <thead>\n",
       "    <tr style=\"text-align: right;\">\n",
       "      <th></th>\n",
       "      <th>Unnamed: 0</th>\n",
       "      <th>comments_count</th>\n",
       "      <th>country_code</th>\n",
       "      <th>created</th>\n",
       "      <th>followers_count</th>\n",
       "      <th>forks_count</th>\n",
       "      <th>has_similars</th>\n",
       "      <th>height</th>\n",
       "      <th>id</th>\n",
       "      <th>is_reposted</th>\n",
       "      <th>...</th>\n",
       "      <th>photos_count</th>\n",
       "      <th>public</th>\n",
       "      <th>reposts_count</th>\n",
       "      <th>sources_count</th>\n",
       "      <th>status</th>\n",
       "      <th>streams_count</th>\n",
       "      <th>type</th>\n",
       "      <th>url</th>\n",
       "      <th>username</th>\n",
       "      <th>views_count</th>\n",
       "    </tr>\n",
       "  </thead>\n",
       "  <tbody>\n",
       "    <tr>\n",
       "      <th>0</th>\n",
       "      <td>0</td>\n",
       "      <td>9.0</td>\n",
       "      <td>RU</td>\n",
       "      <td>2017-07-02T04:30:40.201Z</td>\n",
       "      <td>815.0</td>\n",
       "      <td>4.0</td>\n",
       "      <td>True</td>\n",
       "      <td>1447.0</td>\n",
       "      <td>2.047946e+14</td>\n",
       "      <td>False</td>\n",
       "      <td>...</td>\n",
       "      <td>1332.0</td>\n",
       "      <td>True</td>\n",
       "      <td>9.0</td>\n",
       "      <td>3.0</td>\n",
       "      <td>success</td>\n",
       "      <td>22.0</td>\n",
       "      <td>photo</td>\n",
       "      <td>https://cdn131.picsart.com/236665883091202.jpg</td>\n",
       "      <td>primachuk71</td>\n",
       "      <td>2828.0</td>\n",
       "    </tr>\n",
       "    <tr>\n",
       "      <th>1</th>\n",
       "      <td>1</td>\n",
       "      <td>8.0</td>\n",
       "      <td>US</td>\n",
       "      <td>2017-06-28T02:13:06.502Z</td>\n",
       "      <td>358.0</td>\n",
       "      <td>0.0</td>\n",
       "      <td>True</td>\n",
       "      <td>1095.0</td>\n",
       "      <td>2.128556e+14</td>\n",
       "      <td>False</td>\n",
       "      <td>...</td>\n",
       "      <td>590.0</td>\n",
       "      <td>True</td>\n",
       "      <td>7.0</td>\n",
       "      <td>0.0</td>\n",
       "      <td>success</td>\n",
       "      <td>18.0</td>\n",
       "      <td>photo</td>\n",
       "      <td>https://cdn141.picsart.com/236312023077202.jpg</td>\n",
       "      <td>isabellamelo7</td>\n",
       "      <td>3887.0</td>\n",
       "    </tr>\n",
       "    <tr>\n",
       "      <th>2</th>\n",
       "      <td>2</td>\n",
       "      <td>12.0</td>\n",
       "      <td>US</td>\n",
       "      <td>2017-05-14T20:52:13.009Z</td>\n",
       "      <td>6179.0</td>\n",
       "      <td>21.0</td>\n",
       "      <td>True</td>\n",
       "      <td>1080.0</td>\n",
       "      <td>1.606744e+14</td>\n",
       "      <td>False</td>\n",
       "      <td>...</td>\n",
       "      <td>776.0</td>\n",
       "      <td>True</td>\n",
       "      <td>38.0</td>\n",
       "      <td>1.0</td>\n",
       "      <td>success</td>\n",
       "      <td>31.0</td>\n",
       "      <td>photo</td>\n",
       "      <td>https://cdn171.picsart.com/232491133001202.jpg</td>\n",
       "      <td>williamld05</td>\n",
       "      <td>37668.0</td>\n",
       "    </tr>\n",
       "    <tr>\n",
       "      <th>3</th>\n",
       "      <td>3</td>\n",
       "      <td>14.0</td>\n",
       "      <td>IT</td>\n",
       "      <td>2015-12-24T18:42:35.433Z</td>\n",
       "      <td>107364.0</td>\n",
       "      <td>0.0</td>\n",
       "      <td>False</td>\n",
       "      <td>1280.0</td>\n",
       "      <td>1.886784e+14</td>\n",
       "      <td>False</td>\n",
       "      <td>...</td>\n",
       "      <td>104.0</td>\n",
       "      <td>True</td>\n",
       "      <td>62.0</td>\n",
       "      <td>0.0</td>\n",
       "      <td>success</td>\n",
       "      <td>10.0</td>\n",
       "      <td>photo</td>\n",
       "      <td>http://cdn78.picsart.com/188678555000202.jpg</td>\n",
       "      <td>riccardonosvelli</td>\n",
       "      <td>70063.0</td>\n",
       "    </tr>\n",
       "    <tr>\n",
       "      <th>4</th>\n",
       "      <td>4</td>\n",
       "      <td>15.0</td>\n",
       "      <td>NaN</td>\n",
       "      <td>2014-06-03T10:41:18.435Z</td>\n",
       "      <td>83.0</td>\n",
       "      <td>0.0</td>\n",
       "      <td>False</td>\n",
       "      <td>696.0</td>\n",
       "      <td>1.333483e+14</td>\n",
       "      <td>False</td>\n",
       "      <td>...</td>\n",
       "      <td>67.0</td>\n",
       "      <td>True</td>\n",
       "      <td>NaN</td>\n",
       "      <td>0.0</td>\n",
       "      <td>success</td>\n",
       "      <td>2.0</td>\n",
       "      <td>photo</td>\n",
       "      <td>http://cdn29.picsart.com/139488078000202.jpeg</td>\n",
       "      <td>jeanettebau</td>\n",
       "      <td>491.0</td>\n",
       "    </tr>\n",
       "  </tbody>\n",
       "</table>\n",
       "<p>5 rows × 25 columns</p>\n",
       "</div>"
      ],
      "text/plain": [
       "   Unnamed: 0  comments_count country_code                   created  \\\n",
       "0           0             9.0           RU  2017-07-02T04:30:40.201Z   \n",
       "1           1             8.0           US  2017-06-28T02:13:06.502Z   \n",
       "2           2            12.0           US  2017-05-14T20:52:13.009Z   \n",
       "3           3            14.0           IT  2015-12-24T18:42:35.433Z   \n",
       "4           4            15.0          NaN  2014-06-03T10:41:18.435Z   \n",
       "\n",
       "   followers_count  forks_count has_similars  height            id  \\\n",
       "0            815.0          4.0         True  1447.0  2.047946e+14   \n",
       "1            358.0          0.0         True  1095.0  2.128556e+14   \n",
       "2           6179.0         21.0         True  1080.0  1.606744e+14   \n",
       "3         107364.0          0.0        False  1280.0  1.886784e+14   \n",
       "4             83.0          0.0        False   696.0  1.333483e+14   \n",
       "\n",
       "  is_reposted     ...     photos_count  public reposts_count sources_count  \\\n",
       "0       False     ...           1332.0    True           9.0           3.0   \n",
       "1       False     ...            590.0    True           7.0           0.0   \n",
       "2       False     ...            776.0    True          38.0           1.0   \n",
       "3       False     ...            104.0    True          62.0           0.0   \n",
       "4       False     ...             67.0    True           NaN           0.0   \n",
       "\n",
       "    status  streams_count   type  \\\n",
       "0  success           22.0  photo   \n",
       "1  success           18.0  photo   \n",
       "2  success           31.0  photo   \n",
       "3  success           10.0  photo   \n",
       "4  success            2.0  photo   \n",
       "\n",
       "                                              url          username  \\\n",
       "0  https://cdn131.picsart.com/236665883091202.jpg       primachuk71   \n",
       "1  https://cdn141.picsart.com/236312023077202.jpg     isabellamelo7   \n",
       "2  https://cdn171.picsart.com/232491133001202.jpg       williamld05   \n",
       "3    http://cdn78.picsart.com/188678555000202.jpg  riccardonosvelli   \n",
       "4   http://cdn29.picsart.com/139488078000202.jpeg       jeanettebau   \n",
       "\n",
       "  views_count  \n",
       "0      2828.0  \n",
       "1      3887.0  \n",
       "2     37668.0  \n",
       "3     70063.0  \n",
       "4       491.0  \n",
       "\n",
       "[5 rows x 25 columns]"
      ]
     },
     "execution_count": 3,
     "metadata": {},
     "output_type": "execute_result"
    }
   ],
   "source": [
    "f_p_df = pd.read_csv('f_p_df.csv')\n",
    "f_p_df.head()"
   ]
  },
  {
   "cell_type": "code",
   "execution_count": 4,
   "metadata": {
    "hidden": true
   },
   "outputs": [
    {
     "data": {
      "text/html": [
       "<div>\n",
       "<style>\n",
       "    .dataframe thead tr:only-child th {\n",
       "        text-align: right;\n",
       "    }\n",
       "\n",
       "    .dataframe thead th {\n",
       "        text-align: left;\n",
       "    }\n",
       "\n",
       "    .dataframe tbody tr th {\n",
       "        vertical-align: top;\n",
       "    }\n",
       "</style>\n",
       "<table border=\"1\" class=\"dataframe\">\n",
       "  <thead>\n",
       "    <tr style=\"text-align: right;\">\n",
       "      <th></th>\n",
       "      <th>Unnamed: 0</th>\n",
       "      <th>comments_count</th>\n",
       "      <th>country_code</th>\n",
       "      <th>created</th>\n",
       "      <th>followers_count</th>\n",
       "      <th>forks_count</th>\n",
       "      <th>has_similars</th>\n",
       "      <th>height</th>\n",
       "      <th>id</th>\n",
       "      <th>is_reposted</th>\n",
       "      <th>...</th>\n",
       "      <th>photos_count</th>\n",
       "      <th>public</th>\n",
       "      <th>reposts_count</th>\n",
       "      <th>sources_count</th>\n",
       "      <th>status</th>\n",
       "      <th>streams_count</th>\n",
       "      <th>type</th>\n",
       "      <th>url</th>\n",
       "      <th>username</th>\n",
       "      <th>views_count</th>\n",
       "    </tr>\n",
       "  </thead>\n",
       "  <tbody>\n",
       "    <tr>\n",
       "      <th>0</th>\n",
       "      <td>0</td>\n",
       "      <td>0.0</td>\n",
       "      <td>NaN</td>\n",
       "      <td>2015-05-10T17:08:14.297Z</td>\n",
       "      <td>0.0</td>\n",
       "      <td>0.0</td>\n",
       "      <td>False</td>\n",
       "      <td>1536.0</td>\n",
       "      <td>1.651055e+14</td>\n",
       "      <td>False</td>\n",
       "      <td>...</td>\n",
       "      <td>6.0</td>\n",
       "      <td>True</td>\n",
       "      <td>0.0</td>\n",
       "      <td>0.0</td>\n",
       "      <td>success</td>\n",
       "      <td>0.0</td>\n",
       "      <td>photo</td>\n",
       "      <td>http://cdn51.picsart.com/168973693005202.jpeg</td>\n",
       "      <td>renaehuff1</td>\n",
       "      <td>65.0</td>\n",
       "    </tr>\n",
       "    <tr>\n",
       "      <th>1</th>\n",
       "      <td>1</td>\n",
       "      <td>0.0</td>\n",
       "      <td>NaN</td>\n",
       "      <td>2015-06-29T14:04:13.665Z</td>\n",
       "      <td>1375.0</td>\n",
       "      <td>0.0</td>\n",
       "      <td>False</td>\n",
       "      <td>2059.0</td>\n",
       "      <td>1.695608e+14</td>\n",
       "      <td>False</td>\n",
       "      <td>...</td>\n",
       "      <td>200.0</td>\n",
       "      <td>True</td>\n",
       "      <td>0.0</td>\n",
       "      <td>0.0</td>\n",
       "      <td>success</td>\n",
       "      <td>0.0</td>\n",
       "      <td>photo</td>\n",
       "      <td>http://cdn55.picsart.com/173282653001202.jpg</td>\n",
       "      <td>kairi_seila</td>\n",
       "      <td>68.0</td>\n",
       "    </tr>\n",
       "    <tr>\n",
       "      <th>2</th>\n",
       "      <td>2</td>\n",
       "      <td>0.0</td>\n",
       "      <td>NaN</td>\n",
       "      <td>2015-06-20T04:04:51.923Z</td>\n",
       "      <td>1.0</td>\n",
       "      <td>0.0</td>\n",
       "      <td>False</td>\n",
       "      <td>3052.0</td>\n",
       "      <td>1.723777e+14</td>\n",
       "      <td>False</td>\n",
       "      <td>...</td>\n",
       "      <td>1.0</td>\n",
       "      <td>True</td>\n",
       "      <td>0.0</td>\n",
       "      <td>0.0</td>\n",
       "      <td>success</td>\n",
       "      <td>0.0</td>\n",
       "      <td>photo</td>\n",
       "      <td>http://cdn55.picsart.com/172469088003202.jpg</td>\n",
       "      <td>latashathompson1</td>\n",
       "      <td>57.0</td>\n",
       "    </tr>\n",
       "    <tr>\n",
       "      <th>3</th>\n",
       "      <td>3</td>\n",
       "      <td>1.0</td>\n",
       "      <td>US</td>\n",
       "      <td>2015-12-17T02:24:22.739Z</td>\n",
       "      <td>1.0</td>\n",
       "      <td>0.0</td>\n",
       "      <td>False</td>\n",
       "      <td>640.0</td>\n",
       "      <td>1.878020e+14</td>\n",
       "      <td>False</td>\n",
       "      <td>...</td>\n",
       "      <td>8.0</td>\n",
       "      <td>True</td>\n",
       "      <td>0.0</td>\n",
       "      <td>0.0</td>\n",
       "      <td>success</td>\n",
       "      <td>0.0</td>\n",
       "      <td>photo</td>\n",
       "      <td>http://cdn65.picsart.com/188015062000202.jpg</td>\n",
       "      <td>tunhtet</td>\n",
       "      <td>65.0</td>\n",
       "    </tr>\n",
       "    <tr>\n",
       "      <th>4</th>\n",
       "      <td>4</td>\n",
       "      <td>0.0</td>\n",
       "      <td>NaN</td>\n",
       "      <td>2015-04-05T11:52:26.097Z</td>\n",
       "      <td>0.0</td>\n",
       "      <td>0.0</td>\n",
       "      <td>False</td>\n",
       "      <td>1024.0</td>\n",
       "      <td>1.169818e+07</td>\n",
       "      <td>False</td>\n",
       "      <td>...</td>\n",
       "      <td>4.0</td>\n",
       "      <td>True</td>\n",
       "      <td>0.0</td>\n",
       "      <td>0.0</td>\n",
       "      <td>success</td>\n",
       "      <td>0.0</td>\n",
       "      <td>photo</td>\n",
       "      <td>http://cdn46.picsart.com/165930745001201.jpeg</td>\n",
       "      <td>bruno-mesquita-393</td>\n",
       "      <td>63.0</td>\n",
       "    </tr>\n",
       "  </tbody>\n",
       "</table>\n",
       "<p>5 rows × 25 columns</p>\n",
       "</div>"
      ],
      "text/plain": [
       "   Unnamed: 0  comments_count country_code                   created  \\\n",
       "0           0             0.0          NaN  2015-05-10T17:08:14.297Z   \n",
       "1           1             0.0          NaN  2015-06-29T14:04:13.665Z   \n",
       "2           2             0.0          NaN  2015-06-20T04:04:51.923Z   \n",
       "3           3             1.0           US  2015-12-17T02:24:22.739Z   \n",
       "4           4             0.0          NaN  2015-04-05T11:52:26.097Z   \n",
       "\n",
       "   followers_count  forks_count has_similars  height            id  \\\n",
       "0              0.0          0.0        False  1536.0  1.651055e+14   \n",
       "1           1375.0          0.0        False  2059.0  1.695608e+14   \n",
       "2              1.0          0.0        False  3052.0  1.723777e+14   \n",
       "3              1.0          0.0        False   640.0  1.878020e+14   \n",
       "4              0.0          0.0        False  1024.0  1.169818e+07   \n",
       "\n",
       "  is_reposted     ...     photos_count  public reposts_count sources_count  \\\n",
       "0       False     ...              6.0    True           0.0           0.0   \n",
       "1       False     ...            200.0    True           0.0           0.0   \n",
       "2       False     ...              1.0    True           0.0           0.0   \n",
       "3       False     ...              8.0    True           0.0           0.0   \n",
       "4       False     ...              4.0    True           0.0           0.0   \n",
       "\n",
       "    status  streams_count   type  \\\n",
       "0  success            0.0  photo   \n",
       "1  success            0.0  photo   \n",
       "2  success            0.0  photo   \n",
       "3  success            0.0  photo   \n",
       "4  success            0.0  photo   \n",
       "\n",
       "                                             url            username  \\\n",
       "0  http://cdn51.picsart.com/168973693005202.jpeg          renaehuff1   \n",
       "1   http://cdn55.picsart.com/173282653001202.jpg         kairi_seila   \n",
       "2   http://cdn55.picsart.com/172469088003202.jpg    latashathompson1   \n",
       "3   http://cdn65.picsart.com/188015062000202.jpg             tunhtet   \n",
       "4  http://cdn46.picsart.com/165930745001201.jpeg  bruno-mesquita-393   \n",
       "\n",
       "  views_count  \n",
       "0        65.0  \n",
       "1        68.0  \n",
       "2        57.0  \n",
       "3        65.0  \n",
       "4        63.0  \n",
       "\n",
       "[5 rows x 25 columns]"
      ]
     },
     "execution_count": 4,
     "metadata": {},
     "output_type": "execute_result"
    }
   ],
   "source": [
    "nf_p_df = pd.read_csv('nf_p_df.csv')\n",
    "nf_p_df.head()"
   ]
  },
  {
   "cell_type": "code",
   "execution_count": 12,
   "metadata": {
    "hidden": true
   },
   "outputs": [
    {
     "data": {
      "text/plain": [
       "'photo'"
      ]
     },
     "execution_count": 12,
     "metadata": {},
     "output_type": "execute_result"
    }
   ],
   "source": [
    "nf_p_df['type'][0]"
   ]
  },
  {
   "cell_type": "code",
   "execution_count": null,
   "metadata": {
    "collapsed": true,
    "hidden": true
   },
   "outputs": [],
   "source": [
    "numeric_columns = ['comments_count','followers_count', 'forks_count','likes_count','photos_count','reposts_count','sources_count', 'streams_count','views_count']\n",
    "categorical_columns = ['country_code','type','status']\n",
    "date_columns = ['created']\n",
    "technical_data = ['height','id']\n",
    "binary_vars = ['has_similars','is_verified', 'public','mature','is_reposted', 'username']\n",
    "other_data = ['name']"
   ]
  },
  {
   "cell_type": "code",
   "execution_count": null,
   "metadata": {
    "collapsed": true,
    "hidden": true
   },
   "outputs": [],
   "source": []
  }
 ],
 "metadata": {
  "kernelspec": {
   "display_name": "Python 3",
   "language": "python",
   "name": "python3"
  },
  "language_info": {
   "codemirror_mode": {
    "name": "ipython",
    "version": 3
   },
   "file_extension": ".py",
   "mimetype": "text/x-python",
   "name": "python",
   "nbconvert_exporter": "python",
   "pygments_lexer": "ipython3",
   "version": "3.5.4"
  },
  "toc": {
   "nav_menu": {},
   "number_sections": true,
   "sideBar": true,
   "skip_h1_title": false,
   "toc_cell": false,
   "toc_position": {},
   "toc_section_display": "block",
   "toc_window_display": true
  }
 },
 "nbformat": 4,
 "nbformat_minor": 2
}
