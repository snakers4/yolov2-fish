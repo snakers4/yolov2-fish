{
 "cells": [
  {
   "cell_type": "markdown",
   "metadata": {},
   "source": [
    "# Download the data"
   ]
  },
  {
   "cell_type": "code",
   "execution_count": 2,
   "metadata": {
    "ExecuteTime": {
     "end_time": "2017-10-11T12:02:43.811704Z",
     "start_time": "2017-10-11T12:02:43.700781Z"
    },
    "collapsed": true
   },
   "outputs": [],
   "source": [
    "import json\n",
    "import requests\n",
    "import os\n",
    "import pandas as pd\n",
    "from multiprocessing import Pool\n",
    "import tqdm\n",
    "import time"
   ]
  },
  {
   "cell_type": "code",
   "execution_count": 3,
   "metadata": {
    "cell_style": "center",
    "code_folding": [
     8,
     13,
     21,
     27
    ]
   },
   "outputs": [
    {
     "name": "stdout",
     "output_type": "stream",
     "text": [
      "99687 100039\n"
     ]
    }
   ],
   "source": [
    "f_df = pd.read_csv('featured.csv')\n",
    "nf_df = pd.read_csv('not_featured.csv')\n",
    "\n",
    "featured_ids = list(f_df.id.values)\n",
    "non_featured_ids = list(nf_df.id.values)\n",
    "print(len(featured_ids),len(non_featured_ids))\n",
    "\n",
    "def get_remote_data(pic_id):\n",
    "    api_url = 'https://api.picsart.com/photos/show/%s.json' % str(pic_id)\n",
    "    response = requests.get(api_url)\n",
    "    data = json.loads(response.content.decode(response.encoding))\n",
    "    return data \n",
    "def parse_data_item(data, entities_list, user_entities_list, location_entities_list):\n",
    "    entities = { new_key: catch(data,new_key) for new_key in entities_list}\n",
    "    user_entities = { new_key: catch(catch(data,'user'),new_key) for new_key in user_entities_list}\n",
    "    location_entities = { new_key: catch(catch(data,'location'),new_key) for new_key in location_entities_list}\n",
    "    entities.update(user_entities)\n",
    "    entities.update(location_entities)\n",
    "    return entities\n",
    "def catch(data,key):\n",
    "    try:\n",
    "        return data[key]\n",
    "    except:\n",
    "        return ''\n",
    "def formatted_api_response(pic_id):\n",
    "    return parse_data_item(get_remote_data(pic_id),entities_list, user_entities_list, location_entities_list)"
   ]
  },
  {
   "cell_type": "code",
   "execution_count": null,
   "metadata": {
    "code_folding": [
     0
    ]
   },
   "outputs": [],
   "source": [
    "entities_list = ['comments_count',\n",
    "                 'views_count',\n",
    "                 'title',\n",
    "                 'reposts_count',\n",
    "                 'created',\n",
    "                 'public',\n",
    "                 'sources_count',\n",
    "                 'streams_count',\n",
    "                 'height',\n",
    "                 'type',\n",
    "                 'is_reposted',\n",
    "                 'url',\n",
    "                 'likes_count',\n",
    "                 'status',\n",
    "                 'mature',\n",
    "                 'id',\n",
    "                 'has_similars',\n",
    "                 'forks_count']\n",
    "user_entities_list = ['photo', 'followers_count', 'photos_count', 'username', 'is_verified', 'name', 'id']\n",
    "location_entities_list = ['country_code']\n",
    "\n",
    "with Pool(8) as p:\n",
    "    pic_data = list(tqdm.tqdm(p.imap(formatted_api_response, featured_ids), total=len(featured_ids)))\n",
    "\n",
    "f_p_df = pd.DataFrame(pic_data)\n",
    "f_p_df.to_csv('f_p_df.csv')\n",
    "\n",
    "with Pool(8) as p:\n",
    "    pic_data = list(tqdm.tqdm(p.imap(formatted_api_response, non_featured_ids), total=len(non_featured_ids)))\n",
    "\n",
    "nf_p_df = pd.DataFrame(pic_data)\n",
    "nf_p_df.to_csv('nf_p_df.csv')"
   ]
  },
  {
   "cell_type": "code",
   "execution_count": 37,
   "metadata": {},
   "outputs": [],
   "source": []
  }
 ],
 "metadata": {
  "kernelspec": {
   "display_name": "Python 3",
   "language": "python",
   "name": "python3"
  },
  "language_info": {
   "codemirror_mode": {
    "name": "ipython",
    "version": 3
   },
   "file_extension": ".py",
   "mimetype": "text/x-python",
   "name": "python",
   "nbconvert_exporter": "python",
   "pygments_lexer": "ipython3",
   "version": "3.5.4"
  },
  "toc": {
   "nav_menu": {},
   "number_sections": true,
   "sideBar": true,
   "skip_h1_title": false,
   "toc_cell": false,
   "toc_position": {},
   "toc_section_display": "block",
   "toc_window_display": true
  }
 },
 "nbformat": 4,
 "nbformat_minor": 2
}
